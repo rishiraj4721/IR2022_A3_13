{
 "cells": [
  {
   "cell_type": "code",
   "execution_count": 52,
   "id": "3dea6bec",
   "metadata": {},
   "outputs": [],
   "source": [
    "import networkx as nx\n",
    "from igraph import *\n",
    "import csv\n"
   ]
  },
  {
   "cell_type": "code",
   "execution_count": 53,
   "id": "14f7df65",
   "metadata": {},
   "outputs": [],
   "source": [
    "def pagerank(wiki_graph):\n",
    "    pagerank_scores = nx.pagerank(wiki_graph,max_iter=100,alpha=0.85,tol=0.00001)\n",
    "    pagerank_scores = sorted(pagerank_scores.items(), key=lambda x: x[1], reverse=True)\n",
    "    with open('pagerank.csv', 'w', newline='') as csv_file:  \n",
    "        writer = csv.writer(csv_file)\n",
    "        writer.writerow(['Hub score','node'])\n",
    "        for val in pagerank_scores:\n",
    "#             print([key,value])\n",
    "            writer.writerow(val)\n",
    "    print(\"Top 10 nodes of Pagerank score are:\",pagerank_scores[0:10],\"\\n\")\n",
    "\n"
   ]
  },
  {
   "cell_type": "code",
   "execution_count": 54,
   "id": "cd6728ad",
   "metadata": {},
   "outputs": [],
   "source": [
    "def hits_Authority_Hubs(wiki_graph):\n",
    "    hits_scores = nx.hits(wiki_graph,tol=0.00001,max_iter=100, normalized = True)\n",
    "    (authority_scores,hub_scores) = (hits_scores[0], hits_scores[1])\n",
    "    hub_scores = hits_scores[0]\n",
    "    hub_scores = sorted(hub_scores.items(), key=lambda x: x[1], reverse=True)\n",
    "    authority_scores = sorted(authority_scores.items(), key=lambda x: x[1], reverse=True)\n",
    "    with open('hits_hubs.csv', 'w', newline='') as csv_file:  \n",
    "        writer = csv.writer(csv_file)\n",
    "        writer.writerow(['Hub score','node'])\n",
    "        for val in hub_scores:\n",
    "#             print([key,value])\n",
    "            writer.writerow(val)\n",
    "    with open('hits_authority.csv', 'w', newline='') as csv_file:  \n",
    "        writer = csv.writer(csv_file)\n",
    "        writer.writerow(['Authority score','node'])\n",
    "        for val in authority_scores:\n",
    "            writer.writerow(val)\n",
    "\n",
    "    print(\"Top 10 nodes of Authority score are:\",authority_scores[:10],\"\\n\")\n",
    "    print(\"Top 10 nodes of Hub score are:\",hub_scores[:10],\"\\n\")\n",
    "\n",
    "    "
   ]
  },
  {
   "cell_type": "code",
   "execution_count": 55,
   "id": "4ddf4630",
   "metadata": {},
   "outputs": [
    {
     "name": "stdout",
     "output_type": "stream",
     "text": [
      "Given graph have: DiGraph with 7115 nodes and 103689 edges \n",
      "\n",
      "Top 10 nodes of Pagerank score are: [(4037, 0.004586879995073638), (15, 0.003675780093789909), (6634, 0.0033470695833168213), (2625, 0.0032713153100210482), (2398, 0.002600193053403739), (2470, 0.002530134335199274), (2237, 0.0024754616361304556), (4191, 0.0022518113639558167), (7553, 0.0021765417346990895), (5254, 0.002155060435801579)] \n",
      "\n",
      "Top 10 nodes of Authority score are: [(2565, 0.007940492708143137), (766, 0.0075743352975012395), (2688, 0.006440248991029861), (457, 0.006416870490261072), (1166, 0.006010567902411202), (1549, 0.005720754058269241), (11, 0.004921182063808108), (1151, 0.0045720407017564085), (1374, 0.004467888792711109), (1133, 0.003918881732057349)] \n",
      "\n",
      "Top 10 nodes of Hub score are: [(2565, 0.007940492708143137), (766, 0.0075743352975012395), (2688, 0.006440248991029861), (457, 0.006416870490261072), (1166, 0.006010567902411202), (1549, 0.005720754058269241), (11, 0.004921182063808108), (1151, 0.0045720407017564085), (1374, 0.004467888792711109), (1133, 0.003918881732057349)] \n",
      "\n"
     ]
    }
   ],
   "source": [
    "wiki_graph = nx.read_edgelist(\"Wiki-Vote.txt/Wiki-Vote.txt\",  create_using=nx.DiGraph, nodetype=int)\n",
    "print(\"Given graph have:\", nx.info(wiki_graph),\"\\n\")\n",
    "pagerank(wiki_graph)\n",
    "hits_Authority_Hubs(wiki_graph)"
   ]
  },
  {
   "cell_type": "code",
   "execution_count": null,
   "id": "e9a4f53c",
   "metadata": {},
   "outputs": [],
   "source": []
  }
 ],
 "metadata": {
  "kernelspec": {
   "display_name": "Python 3",
   "language": "python",
   "name": "python3"
  },
  "language_info": {
   "codemirror_mode": {
    "name": "ipython",
    "version": 3
   },
   "file_extension": ".py",
   "mimetype": "text/x-python",
   "name": "python",
   "nbconvert_exporter": "python",
   "pygments_lexer": "ipython3",
   "version": "3.7.4"
  }
 },
 "nbformat": 4,
 "nbformat_minor": 5
}
