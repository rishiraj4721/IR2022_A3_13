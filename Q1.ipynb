{
 "cells": [
  {
   "cell_type": "code",
   "metadata": {
    "cell_id": "81b03d7bbd264db38d5352fc6f2a6072",
    "tags": [],
    "deepnote_to_be_reexecuted": false,
    "source_hash": "6a77453d",
    "execution_start": 1650538101282,
    "execution_millis": 1723,
    "deepnote_cell_type": "code",
    "deepnote_cell_height": 80.60000610351562
   },
   "source": "import matplotlib.pyplot as plt",
   "execution_count": 1,
   "outputs": []
  },
  {
   "cell_type": "code",
   "metadata": {
    "cell_id": "be241afa43984fe78ae3d57dcfcd0126",
    "tags": [],
    "deepnote_to_be_reexecuted": false,
    "source_hash": "46f8cad2",
    "execution_start": 1650538103010,
    "execution_millis": 118,
    "deepnote_cell_type": "code",
    "deepnote_cell_height": 278.6000061035156
   },
   "source": "dataset = open('Wiki-Vote.txt','r')\nlines = dataset.readlines()\n\ngraph = {}\n\nfor line in lines[4:]:\n    # print(line)\n    u,v = line.split()\n    # print(u,v)\n    if u not in graph: graph[u] = []\n    graph[u].append(v)\n    if v not in graph: graph[v] = []",
   "execution_count": 2,
   "outputs": []
  },
  {
   "cell_type": "markdown",
   "source": "### Save graph to adjacency matrix*",
   "metadata": {
    "cell_id": "ba08a31d2edb4f1588f39bd3946a6ae9",
    "tags": [],
    "is_collapsed": false,
    "deepnote_cell_type": "text-cell-h3"
   }
  },
  {
   "cell_type": "code",
   "metadata": {
    "cell_id": "2523783111464149930f5830e6257d89",
    "tags": [],
    "deepnote_to_be_reexecuted": false,
    "source_hash": "993cf5a6",
    "execution_start": 1650538103177,
    "execution_millis": 0,
    "deepnote_cell_type": "code",
    "deepnote_cell_height": 206.60000610351562
   },
   "source": "# nodes = len(graph)\n# graph_matrix = [[0 for i in range(nodes+1)] for j in range(nodes+1)]\n\n# for i in list(graph.keys()):\n#     for j in graph[i]:\n#         graph_matrix[int(i)][int(j)] = 1\n\n# # print(graph_matrix)",
   "execution_count": 3,
   "outputs": []
  },
  {
   "cell_type": "markdown",
   "source": "### Save graph to edge list format",
   "metadata": {
    "cell_id": "1b7f661a13a5472389a408cd6e5e3fe0",
    "tags": [],
    "is_collapsed": false,
    "deepnote_cell_type": "text-cell-h3"
   }
  },
  {
   "cell_type": "code",
   "metadata": {
    "cell_id": "701af759094140ceba2f7e9fcb1ee54a",
    "tags": [],
    "deepnote_to_be_reexecuted": false,
    "source_hash": "57f57c9e",
    "execution_start": 1650538103178,
    "execution_millis": 0,
    "deepnote_cell_type": "code",
    "deepnote_cell_height": 170.60000610351562
   },
   "source": "# out1 = open(\"Edge_list.txt\", \"w\")\n# for i,j in graph.items():\n#     # print(i,\"->\",j)\n#     out1.write(str(i)+\"->\"+str(j)+\"\\n\")\n# out1.close()\n# # print(graph)",
   "execution_count": 4,
   "outputs": []
  },
  {
   "cell_type": "markdown",
   "source": "### Q1) 1. Number of nodes    2. Number of edges",
   "metadata": {
    "cell_id": "21ad7b4bc33b405d8bfd488869fe2526",
    "tags": [],
    "is_collapsed": false,
    "deepnote_cell_type": "text-cell-h3"
   }
  },
  {
   "cell_type": "code",
   "metadata": {
    "cell_id": "0bee1cdc59b6412b841ed6faf3164c20",
    "tags": [],
    "deepnote_to_be_reexecuted": false,
    "source_hash": "6a0cb966",
    "execution_start": 1650538103178,
    "execution_millis": 260,
    "deepnote_cell_type": "code",
    "deepnote_cell_height": 221.39999389648438
   },
   "source": "print(\"Number of nodes =\",len(graph))\n\nedges = 0\nfor i,j in graph.items():\n    edges += len(j)\nprint(\"Number of edges =\",edges)",
   "execution_count": 5,
   "outputs": [
    {
     "name": "stdout",
     "text": "Number of nodes = 7115\nNumber of edges = 103689\n",
     "output_type": "stream"
    }
   ]
  },
  {
   "cell_type": "markdown",
   "source": "### Q1) 3. Average in-degree",
   "metadata": {
    "cell_id": "0e2c030bc4b7484386c5958fbda6a3ab",
    "tags": [],
    "is_collapsed": false,
    "deepnote_cell_type": "text-cell-h3"
   }
  },
  {
   "cell_type": "code",
   "metadata": {
    "cell_id": "3a6a4c0faf5e4caa9866431b347f489f",
    "tags": [],
    "deepnote_to_be_reexecuted": false,
    "source_hash": "ec5547b6",
    "execution_start": 1650538103224,
    "execution_millis": 214,
    "deepnote_cell_type": "code",
    "deepnote_cell_height": 309.3999938964844
   },
   "source": "in_count = {}\nfor i,j in graph.items():\n    if i not in in_count: in_count[i] = 0\n    for forward in j:\n        if forward not in in_count: in_count[forward] = 0\n        in_count[forward] += 1\n\nin_points = 0\nfor i,j in in_count.items():\n    in_points += j\n\nprint(\"Average in-degree =\",in_points/len(in_count))",
   "execution_count": 6,
   "outputs": [
    {
     "name": "stdout",
     "text": "Average in-degree = 14.573295853829936\n",
     "output_type": "stream"
    }
   ]
  },
  {
   "cell_type": "markdown",
   "source": "### Q1) 4. Average out-degree",
   "metadata": {
    "cell_id": "49ee7aa6e5ef40fdaed4d3eefaf835d4",
    "tags": [],
    "is_collapsed": false,
    "deepnote_cell_type": "text-cell-h3"
   }
  },
  {
   "cell_type": "code",
   "metadata": {
    "cell_id": "81ed937a36364b28b47aea076abb3ba6",
    "tags": [],
    "deepnote_to_be_reexecuted": false,
    "source_hash": "4f8d0545",
    "execution_start": 1650538103231,
    "execution_millis": 207,
    "deepnote_cell_type": "code",
    "deepnote_cell_height": 183.39999389648438
   },
   "source": "out_points = 0\nfor i,j in graph.items():\n    out_points += len(j)\n\nprint(\"Average out-degree =\",out_points/len(graph))",
   "execution_count": 7,
   "outputs": [
    {
     "name": "stdout",
     "text": "Average out-degree = 14.573295853829936\n",
     "output_type": "stream"
    }
   ]
  },
  {
   "cell_type": "markdown",
   "source": "### Q1) 5. Node with max in-degree",
   "metadata": {
    "cell_id": "0adeba5b1f97420f9c6e09f9deee2e79",
    "tags": [],
    "is_collapsed": false,
    "deepnote_cell_type": "text-cell-h3"
   }
  },
  {
   "cell_type": "code",
   "metadata": {
    "cell_id": "96d78c9dc6dd41c4a100e2fb9ad3d27b",
    "tags": [],
    "deepnote_to_be_reexecuted": false,
    "source_hash": "e9e3d485",
    "execution_start": 1650538103274,
    "execution_millis": 165,
    "deepnote_cell_type": "code",
    "deepnote_cell_height": 275.3999938964844
   },
   "source": "max_in_node = 0\nmax_in = 0\nfor i,j in in_count.items():\n    if j>max_in:\n        max_in = j\n        max_in_node = i\n\nprint(\"Node with max in-degree -\",max_in_node)\nprint(\"In-degree =\",max_in)",
   "execution_count": 8,
   "outputs": [
    {
     "name": "stdout",
     "text": "Node with max in-degree - 4037\nIn-degree = 457\n",
     "output_type": "stream"
    }
   ]
  },
  {
   "cell_type": "markdown",
   "source": "### Q1) 6. Node with max out-degree",
   "metadata": {
    "cell_id": "1f7dfb06d3a84b0bb9d4713aa01bf5d5",
    "tags": [],
    "is_collapsed": false,
    "deepnote_cell_type": "text-cell-h3"
   }
  },
  {
   "cell_type": "code",
   "metadata": {
    "cell_id": "7830e2092b2b44e48afb6c12e8b021d9",
    "tags": [],
    "deepnote_to_be_reexecuted": false,
    "source_hash": "da51c148",
    "allow_embed": false,
    "execution_start": 1650538103276,
    "execution_millis": 163,
    "deepnote_cell_type": "code",
    "deepnote_cell_height": 275.3999938964844
   },
   "source": "max_out_node = 0\nmax_out = 0\nfor i,j in graph.items():\n    if len(j)>max_out:\n        max_out = len(j)\n        max_out_node = i\n\nprint(\"Node with max out-degree -\",max_out_node)\nprint(\"Out-degree =\",max_out)",
   "execution_count": 9,
   "outputs": [
    {
     "name": "stdout",
     "text": "Node with max out-degree - 2565\nOut-degree = 893\n",
     "output_type": "stream"
    }
   ]
  },
  {
   "cell_type": "markdown",
   "source": "### Q1) 7. Density of the network",
   "metadata": {
    "cell_id": "a5e0473ee3a649c99bcd15eab5d2f9a7",
    "tags": [],
    "is_collapsed": false,
    "deepnote_cell_type": "text-cell-h3"
   }
  },
  {
   "cell_type": "code",
   "metadata": {
    "cell_id": "5b2e284310414a17af29274a7fab13c3",
    "tags": [],
    "deepnote_to_be_reexecuted": false,
    "source_hash": "c06c9dbb",
    "execution_start": 1650538103277,
    "execution_millis": 162,
    "deepnote_cell_type": "code",
    "deepnote_cell_height": 183.39999389648438
   },
   "source": "def graph_density(vertices,edges):\n    return edges/(vertices*(vertices-1))\n\nd = graph_density(len(graph),edges)\nprint(\"Density of the network =\",d)",
   "execution_count": 10,
   "outputs": [
    {
     "name": "stdout",
     "text": "Density of the network = 0.0020485375110809584\n",
     "output_type": "stream"
    }
   ]
  },
  {
   "cell_type": "markdown",
   "source": "### Q1) 1. Degree distribution of the network",
   "metadata": {
    "cell_id": "87ab67b1284545819f47ad9f1b7b1d58",
    "tags": [],
    "is_collapsed": false,
    "deepnote_cell_type": "text-cell-h3"
   }
  },
  {
   "cell_type": "code",
   "metadata": {
    "cell_id": "f55b4b30e7a44cd580768eb377aae550",
    "tags": [],
    "deepnote_to_be_reexecuted": false,
    "source_hash": "677bafed",
    "execution_start": 1650538103285,
    "execution_millis": 1503,
    "deepnote_cell_type": "code",
    "deepnote_cell_height": 685.5999755859375,
    "deepnote_output_heights": [
     265,
     21
    ]
   },
   "source": "# in-degree \ncount_in_degree = [0]*(max_in+1)\n\nfor i,j in in_count.items():\n    count_in_degree[j] += 1\n\ndegrees = list(range(max_in+1))\nfor i in degrees:\n    count_in_degree[i] /= len(graph)\n  \nfig = plt.figure(figsize = (20, 5))\n \n# creating the bar plot\nplt.bar(degrees, count_in_degree)\n \nplt.xlabel(\"In-degree\")\nplt.ylabel(\"Fraction of nodes\")\nplt.title(\"Degree distribution of the network (in-degree)\")\nplt.show()",
   "execution_count": 11,
   "outputs": [
    {
     "data": {
      "text/plain": "<Figure size 1440x360 with 1 Axes>",
      "image/png": "[encoded data removed]"
     },
     "metadata": {
      "needs_background": "light",
      "image/png": {
       "width": 1167,
       "height": 333
      }
     },
     "output_type": "display_data"
    }
   ]
  },
  {
   "cell_type": "code",
   "metadata": {
    "cell_id": "e1e5cc27ea8c4af297e141567a79e139",
    "tags": [],
    "deepnote_to_be_reexecuted": false,
    "source_hash": "9df91ca5",
    "allow_embed": false,
    "execution_start": 1650538104844,
    "execution_millis": 4797,
    "deepnote_cell_type": "code",
    "deepnote_cell_height": 422.6000061035156,
    "deepnote_output_heights": [
     2
    ]
   },
   "source": "# out-degree \ncount_out_degree = [0]*(max_out+1)\n\nfor i,j in graph.items():\n    count_out_degree[len(j)] += 1\n\ndegrees = list(range(max_out+1))\nfor i in degrees:\n    count_out_degree[i] /= len(graph)\n  \nfig = plt.figure(figsize = (20, 5))\n\n# creating the bar plot\nplt.bar(degrees, count_out_degree)\n \nplt.xlabel(\"out-degree\")\nplt.ylabel(\"Fraction of nodes\")\nplt.title(\"Degree distribution of the network (out-degree)\")\nplt.show()",
   "execution_count": 12,
   "outputs": [
    {
     "data": {
      "text/plain": "<Figure size 1440x360 with 1 Axes>",
      "image/png": "[encoded data removed]"
     },
     "metadata": {
      "needs_background": "light",
      "image/png": {
       "width": 1173,
       "height": 333
      }
     },
     "output_type": "display_data"
    }
   ]
  },
  {
   "cell_type": "markdown",
   "source": "### Q3) 2. Local clustering coefficient and clustering-coefficient distribution plot",
   "metadata": {
    "cell_id": "7d38f9e2ab11495d95e50110e61fc9ff",
    "tags": [],
    "is_collapsed": false,
    "deepnote_cell_type": "text-cell-h3"
   }
  },
  {
   "cell_type": "code",
   "source": "",
   "metadata": {
    "cell_id": "045dca39adb74972b98cd467be9283d2",
    "tags": [],
    "owner_user_id": "7aceb5e9-694e-489d-827f-fa7d6774ae97",
    "deepnote_to_be_reexecuted": false,
    "source_hash": "b623e53d",
    "execution_start": 1650538109651,
    "execution_millis": 26,
    "deepnote_cell_type": "code",
    "deepnote_cell_height": 65.60000610351562
   },
   "outputs": [],
   "execution_count": 12
  },
  {
   "cell_type": "markdown",
   "source": "<a style='text-decoration:none;line-height:16px;display:flex;color:#5B5B62;padding:10px;justify-content:end;' href='https://deepnote.com?utm_source=created-in-deepnote-cell&projectId=29e89c42-c776-474d-981f-7bdaa4e0ce5f' target=\"_blank\">\n<img alt='Created in deepnote.com' style='display:inline;max-height:16px;margin:0px;margin-right:7.5px;' src='data:image/svg+xml;base64,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' > </img>\nCreated in <span style='font-weight:600;margin-left:4px;'>Deepnote</span></a>",
   "metadata": {
    "tags": [],
    "created_in_deepnote_cell": true,
    "deepnote_cell_type": "markdown"
   }
  }
 ],
 "nbformat": 4,
 "nbformat_minor": 2,
 "metadata": {
  "orig_nbformat": 2,
  "deepnote": {},
  "deepnote_notebook_id": "661bfb7c-e85b-4eee-bfaf-2c8fb7f47caf",
  "deepnote_execution_queue": []
 }
}